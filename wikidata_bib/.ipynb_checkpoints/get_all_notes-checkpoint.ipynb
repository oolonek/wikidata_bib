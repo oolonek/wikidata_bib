{
 "cells": [
  {
   "cell_type": "code",
   "execution_count": 17,
   "metadata": {},
   "outputs": [
    {
     "name": "stdout",
     "output_type": "stream",
     "text": [
      "http://www.wikidata.org/entity/Q28250597 has note  https://github.com/lubianat/wikidata_bib/tree/main/notes/Q28250597.md\n"
     ]
    }
   ],
   "source": [
    "from SPARQLWrapper import SPARQLWrapper\n",
    "from rdflib import Graph\n",
    "import pprint\n",
    "\n",
    "g = Graph()\n",
    "g.parse(\"read.ttl\", format=\"ttl\")\n",
    "\n",
    "qres = g.query(\n",
    "    \"\"\"\n",
    "    prefix wd: <http://www.wikidata.org/entity/>  \n",
    "    prefix wb: <https://github.com/lubianat/wikidata_bib/tree/main/>  \n",
    "    prefix wbn: <https://github.com/lubianat/wikidata_bib/tree/main/notes/> \n",
    "    \n",
    "    SELECT DISTINCT ?id ?notes\n",
    "       WHERE {\n",
    "          ?id wb:has_notes ?notes . \n",
    "       }\n",
    "       \n",
    "    \"\"\")\n",
    "\n",
    "for row in qres:\n",
    "    print(\"%s has note  %s\" % row)"
   ]
  }
 ],
 "metadata": {
  "kernelspec": {
   "display_name": "Python 3",
   "language": "python",
   "name": "python3"
  },
  "language_info": {
   "codemirror_mode": {
    "name": "ipython",
    "version": 3
   },
   "file_extension": ".py",
   "mimetype": "text/x-python",
   "name": "python",
   "nbconvert_exporter": "python",
   "pygments_lexer": "ipython3",
   "version": "3.7.5"
  }
 },
 "nbformat": 4,
 "nbformat_minor": 4
}
