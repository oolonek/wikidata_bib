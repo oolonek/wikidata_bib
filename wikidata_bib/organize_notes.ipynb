{
 "cells": [
  {
   "cell_type": "code",
   "execution_count": 1,
   "metadata": {},
   "outputs": [
    {
     "name": "stdout",
     "output_type": "stream",
     "text": [
      "http://www.wikidata.org/entity/Q96817154 has note  https://github.com/lubianat/wikidata_bib/tree/main/notes/Q96817154.md\n",
      "http://www.wikidata.org/entity/Q93086971 has note  https://github.com/lubianat/wikidata_bib/tree/main/notes/Q93086971.md\n",
      "http://www.wikidata.org/entity/Q40967362 has note  https://github.com/lubianat/wikidata_bib/tree/main/notes/Q40967362.md\n",
      "http://www.wikidata.org/entity/Q91130546 has note  https://github.com/lubianat/wikidata_bib/tree/main/notes/Q91130546.md\n",
      "http://www.wikidata.org/entity/Q38798014 has note  https://github.com/lubianat/wikidata_bib/tree/main/notes/Q38798014.md\n",
      "http://www.wikidata.org/entity/Q34169535 has note  https://github.com/lubianat/wikidata_bib/tree/main/notes/Q34169535.md\n",
      "http://www.wikidata.org/entity/Q33037209 has note  https://github.com/lubianat/wikidata_bib/tree/main/notes/Q33037209.md\n",
      "http://www.wikidata.org/entity/Q24678240 has note  https://github.com/lubianat/wikidata_bib/tree/main/notes/Q24678240.md\n",
      "http://www.wikidata.org/entity/Q43299861 has note  https://github.com/lubianat/wikidata_bib/tree/main/notes/Q43299861.md\n",
      "http://www.wikidata.org/entity/Q28250597 has note  https://github.com/lubianat/wikidata_bib/tree/main/notes/Q28250597.md\n",
      "http://www.wikidata.org/entity/Q98665291 has note  https://github.com/lubianat/wikidata_bib/tree/main/notes/Q98665291.md\n"
     ]
    }
   ],
   "source": [
    "from SPARQLWrapper import SPARQLWrapper\n",
    "from rdflib import Graph\n",
    "import pprint\n",
    "\n",
    "g = Graph()\n",
    "g.parse(\"read.ttl\", format=\"ttl\")\n",
    "\n",
    "qres = g.query(\n",
    "    \"\"\"\n",
    "    prefix wd: <http://www.wikidata.org/entity/>  \n",
    "    prefix wb: <https://github.com/lubianat/wikidata_bib/tree/main/>  \n",
    "    prefix wbn: <https://github.com/lubianat/wikidata_bib/tree/main/notes/> \n",
    "    \n",
    "    SELECT DISTINCT ?id ?notes\n",
    "       WHERE {\n",
    "          ?id wb:has_notes ?notes . \n",
    "       }\n",
    "       \n",
    "    \"\"\")\n",
    "\n",
    "for row in qres:\n",
    "    print(\"%s has note  %s\" % row)"
   ]
  },
  {
   "cell_type": "code",
   "execution_count": 10,
   "metadata": {},
   "outputs": [
    {
     "name": "stdout",
     "output_type": "stream",
     "text": [
      "codigo_bonito:\n",
      "http://www.wikidata.org/entity/Q91130546 has note  https://github.com/lubianat/wikidata_bib/tree/main/notes/Q91130546.md\n",
      "cell_types:\n",
      "http://www.wikidata.org/entity/Q40967362 has note  https://github.com/lubianat/wikidata_bib/tree/main/notes/Q40967362.md\n",
      "http://www.wikidata.org/entity/Q93086971 has note  https://github.com/lubianat/wikidata_bib/tree/main/notes/Q93086971.md\n",
      "http://www.wikidata.org/entity/Q43299861 has note  https://github.com/lubianat/wikidata_bib/tree/main/notes/Q43299861.md\n",
      "http://www.wikidata.org/entity/Q98665291 has note  https://github.com/lubianat/wikidata_bib/tree/main/notes/Q98665291.md\n",
      "http://www.wikidata.org/entity/Q38798014 has note  https://github.com/lubianat/wikidata_bib/tree/main/notes/Q38798014.md\n",
      "http://www.wikidata.org/entity/Q96817154 has note  https://github.com/lubianat/wikidata_bib/tree/main/notes/Q96817154.md\n",
      "biocuration:\n",
      "http://www.wikidata.org/entity/Q33037209 has note  https://github.com/lubianat/wikidata_bib/tree/main/notes/Q33037209.md\n",
      "http://www.wikidata.org/entity/Q34169535 has note  https://github.com/lubianat/wikidata_bib/tree/main/notes/Q34169535.md\n",
      "http://www.wikidata.org/entity/Q24678240 has note  https://github.com/lubianat/wikidata_bib/tree/main/notes/Q24678240.md\n"
     ]
    }
   ],
   "source": [
    "import glob\n",
    "\n",
    "paths = (glob.glob(\"./collections/*\"))\n",
    "\n",
    "collections = [path.split(\"/\")[-1] for path in paths]\n",
    "\n",
    "for collection in collections:\n",
    "    print(collection + \":\")\n",
    "    qres = g.query(\n",
    "    \"\"\"\n",
    "    prefix wd: <http://www.wikidata.org/entity/>  \n",
    "    prefix wb: <https://github.com/lubianat/wikidata_bib/tree/main/>  \n",
    "    prefix wbn: <https://github.com/lubianat/wikidata_bib/tree/main/notes/> \n",
    "    prefix wbn: <https://github.com/lubianat/wikidata_bib/tree/main/collections/> \n",
    "\n",
    "    SELECT DISTINCT ?id ?notes\n",
    "       WHERE {\n",
    "          ?id wb:has_notes ?notes .\n",
    "          ?id wb:in_collection \"\"\" + \"wbc:\" + collection + \"\"\" . \n",
    "       }\n",
    "       \n",
    "    \"\"\")\n",
    "    for row in qres:\n",
    "        print(\"%s has note  %s\" % row)\n",
    "\n",
    "\n",
    "    "
   ]
  }
 ],
 "metadata": {
  "kernelspec": {
   "display_name": "Python 3",
   "language": "python",
   "name": "python3"
  },
  "language_info": {
   "codemirror_mode": {
    "name": "ipython",
    "version": 3
   },
   "file_extension": ".py",
   "mimetype": "text/x-python",
   "name": "python",
   "nbconvert_exporter": "python",
   "pygments_lexer": "ipython3",
   "version": "3.7.5"
  }
 },
 "nbformat": 4,
 "nbformat_minor": 4
}
